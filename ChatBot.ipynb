{
 "cells": [
  {
   "cell_type": "markdown",
   "metadata": {
    "collapsed": true
   },
   "source": [
    "### Import Statements"
   ]
  },
  {
   "cell_type": "code",
   "execution_count": 1,
   "metadata": {},
   "outputs": [
    {
     "name": "stderr",
     "output_type": "stream",
     "text": [
      "Using TensorFlow backend.\n"
     ]
    }
   ],
   "source": [
    "import keras.preprocessing.text as t\n",
    "from keras.preprocessing.sequence import pad_sequences\n",
    "import numpy as np\n",
    "import os\n",
    "import pickle\n",
    "from keras.layers import Input, LSTM, Embedding, Dense\n",
    "from keras.models import Model\n",
    "from keras.utils import plot_model"
   ]
  },
  {
   "cell_type": "markdown",
   "metadata": {},
   "source": [
    "### Clean the data [movie_lines] to extract just the lines and also create a dictionary with dialogue id as key and dialogue as value"
   ]
  },
  {
   "cell_type": "code",
   "execution_count": 2,
   "metadata": {},
   "outputs": [],
   "source": [
    "dialogue_conversation_exists = os.path.exists(os.path.join('data', 'dialogue_conversation'))\n",
    "movie_lines_exists = os.path.exists(os.path.join('data', 'movie_lines.txt'))\n",
    "\n",
    "if not (dialogue_conversation_exists & movie_lines_exists):\n",
    "    raw_movie_lines = open(os.path.join('data', 'movie_lines.txt'), 'r').read().split('\\n')[:-1]\n",
    "    dialogue_conversation = {}\n",
    "    \n",
    "    with open(os.path.join('data','just_movie_lines.txt'), 'w') as f:\n",
    "        for line in raw_movie_lines:\n",
    "            line = line.split(' +++$+++ ')\n",
    "            dialogue_id = line[0]\n",
    "            conversation = line[-1]\n",
    "            f.write(conversation + '\\n')\n",
    "            dialogue_conversation[dialogue_id] = conversation\n",
    "    \n",
    "    pickle.dump(dialogue_conversation, open(os.path.join('data', 'dialogue_conversation'), 'wb'), True)\n",
    "else:\n",
    "    dialogue_conversation = pickle.load(open(os.path.join('data', 'dialogue_conversation'), 'rb'))\n"
   ]
  },
  {
   "cell_type": "markdown",
   "metadata": {},
   "source": [
    "### Extract the Embedding Indices from Pre-trained model"
   ]
  },
  {
   "cell_type": "code",
   "execution_count": 3,
   "metadata": {},
   "outputs": [],
   "source": [
    "embeddings_index = {}\n",
    "if not os.path.exists(os.path.join('data', 'embeddings_index')):\n",
    "    f = open(os.path.join('glove.6B', 'glove.6B.100d.txt'))\n",
    "    for line in f:\n",
    "        values = line.split()\n",
    "        word = values[0]\n",
    "        coeffs = np.asarray(values[1:], dtype='float32')\n",
    "        embeddings_index[word] = coeffs\n",
    "    f.close()\n",
    "    \n",
    "    pickle.dump(embeddings_index, open(os.path.join('data', 'embeddings_index'), 'wb'), True)\n",
    "else:\n",
    "    embeddings_index = pickle.load(open(os.path.join('data', 'embeddings_index'), 'rb'))\n"
   ]
  },
  {
   "cell_type": "markdown",
   "metadata": {},
   "source": [
    "### Tokenize the dataset to extract words"
   ]
  },
  {
   "cell_type": "code",
   "execution_count": 4,
   "metadata": {},
   "outputs": [],
   "source": [
    "lines = open(os.path.join('data','just_movie_lines.txt'), 'r').read().split('\\n')[:-1]\n",
    "min_count = 15\n",
    "tokenizer = t.Tokenizer(lines)\n",
    "tokenizer.fit_on_texts(lines) \n",
    "num_words = sum([1 for _, v in tokenizer.word_counts.items() if v >= min_count])"
   ]
  },
  {
   "cell_type": "code",
   "execution_count": 5,
   "metadata": {},
   "outputs": [
    {
     "name": "stdout",
     "output_type": "stream",
     "text": [
      "('Current vocabulary after choosing only most frequent words', '8424')\n"
     ]
    }
   ],
   "source": [
    "print('Current vocabulary after choosing only most frequent words', str(num_words))"
   ]
  },
  {
   "cell_type": "code",
   "execution_count": 6,
   "metadata": {},
   "outputs": [],
   "source": [
    "\n",
    "tokenizer = t.Tokenizer(num_words=num_words)\n",
    "# Assigns id to words in the lines according to word count\n",
    "tokenizer.fit_on_texts(lines) \n",
    "\n",
    "# word_index is a dictionary of word and its index.\n",
    "word_index = tokenizer.word_index"
   ]
  },
  {
   "cell_type": "markdown",
   "metadata": {},
   "source": [
    "### Word to Index and Index to Word Dictionary"
   ]
  },
  {
   "cell_type": "code",
   "execution_count": 7,
   "metadata": {},
   "outputs": [],
   "source": [
    "word_to_index = {key: word_index[key] + 3 for key in word_index if word_index[key] <= num_words}\n",
    "index_to_word = {word_to_index[key]: key for key in word_to_index}\n",
    "\n",
    "word_to_index['<pad>'] = 0\n",
    "word_to_index['<bos>'] = 1\n",
    "word_to_index['<eos>'] = 2\n",
    "word_to_index['<unk>'] = 3\n",
    "\n",
    "index_to_word[0] = '<pad>'\n",
    "index_to_word[1] = '<bos>'\n",
    "index_to_word[2] = '<eos>'\n",
    "index_to_word[3] = '<unk>'"
   ]
  },
  {
   "cell_type": "markdown",
   "metadata": {},
   "source": [
    "### Extracting Conversations"
   ]
  },
  {
   "cell_type": "code",
   "execution_count": null,
   "metadata": {},
   "outputs": [
    {
     "name": "stdout",
     "output_type": "stream",
     "text": [
      "(\"Can we make this quick?  Roxanne Korrine and Andrew Barrett are having an incredibly horrendous public break- up on the quad.  Again. Well, I thought we'd start with pronunciation, if that's okay with you.\", 'Not the hacking and gagging and spitting part.  Please.', \"Well, I thought we'd start with pronunciation, if that's okay with you.\")\n"
     ]
    }
   ],
   "source": [
    "conversations = []\n",
    "conversations_exists = os.path.exists(os.path.join('data', 'conversations'))\n",
    "\n",
    "if not conversations_exists:\n",
    "    raw_movie_conversations = open(os.path.join('data', 'movie_conversations.txt'), 'r').read().split('\\n')[:-1]\n",
    "    \n",
    "    # Extracting the conversation list and forming a list of conversations \n",
    "    # Here con_a is previous two lines, con_a_2 is current line and con_b is next/target line.\n",
    "    for conversation in raw_movie_conversations:\n",
    "        conversation = conversation.split(' +++$+++ ')[-1]\n",
    "        conversation = conversation.replace('[', '')\n",
    "        conversation = conversation.replace(']', '')\n",
    "        conversation = conversation.replace('\\'', '')\n",
    "        conversation = conversation.split(', ')\n",
    "        \n",
    "        con_a_1 = ''\n",
    "        for i in range(len(conversation)-1):\n",
    "            \n",
    "            con_a_2 = dialogue_conversation[conversation[i]]\n",
    "            con_b = dialogue_conversation[conversation[i+1]]\n",
    "            \n",
    "            if len(con_a_1.split()) <= 50 and len(con_a_2.split()) <= 50 and len(con_b.split()) <= 50:\n",
    "                con_a = \"{} {}\".format(con_a_1, con_a_2)\n",
    "                conversations.append((con_a, con_b, con_a_2))\n",
    "            \n",
    "            con_a_1 = con_a_2\n",
    "    pickle.dump(conversations, open(os.path.join('data', 'conversations'), 'wb'), True)\n",
    "else:\n",
    "    conversations = pickle.load(open(os.path.join('data', 'conversations'), 'rb'))\n",
    "print(conversations[1])"
   ]
  },
  {
   "cell_type": "markdown",
   "metadata": {},
   "source": [
    "### Tokenize conversations and add padding ``<pad>``, ``<eos>``, ``<bos>`` and replace out of vocabulary words with ``<unk>``\n",
    "\n",
    "Maximum number of words in a sentence is 50 "
   ]
  },
  {
   "cell_type": "code",
   "execution_count": null,
   "metadata": {},
   "outputs": [],
   "source": [
    "from keras.preprocessing.text import text_to_word_sequence\n",
    "from keras.preprocessing.sequence import pad_sequences\n",
    "\n",
    "max_length = 50\n",
    "vocab = [w_v for w_v in word_index if word_index[w_v]< num_words]\n",
    "\n",
    "# These are not question and answers but a conversation. \n",
    "# Just for convenience sake, I used question and answer as variable names.\n",
    "question = []\n",
    "answer = []\n",
    "\n",
    "question_exists = os.path.exists(os.path.join('data', 'question'))\n",
    "answer_exists = os.path.exists(os.path.join('data', 'question'))\n",
    "\n",
    "if not (question_exists & answer_exists):\n",
    "    for conv in conversations:\n",
    "        conversation_a = conv[0]\n",
    "        conversation_b = conv[1]\n",
    "    \n",
    "        conversation_a = text_to_word_sequence(conversation_a)\n",
    "        conversation_b = text_to_word_sequence(conversation_b)\n",
    "    \n",
    "        conversation_a.insert(0, '<bos>')\n",
    "        conversation_a.append('<eos>')\n",
    "        conversation_b.insert(0, '<bos>')\n",
    "        conversation_b.append('<eos>')\n",
    "    \n",
    "        conversation_a = [word_to_index[c] if c in vocab else 3 for c in conversation_a]\n",
    "        conversation_b = [word_to_index[c] if c in vocab else 3 for c in conversation_b]\n",
    "        \n",
    "        question.append(conversation_a[:max_length])\n",
    "        answer.append(conversation_b[:max_length])\n",
    "    \n",
    "    question = pad_sequences(question, max_length, padding='pre')\n",
    "    answer = pad_sequences(answer, max_length, padding='post')\n",
    "    \n",
    "    pickle.dump(question, open(os.path.join(os.path.join('data', 'question')), 'wb'), True)\n",
    "    pickle.dump(answer, open(os.path.join(os.path.join('data', 'answer')), 'wb'), True)\n",
    "else:\n",
    "    question = pickle.load(open(os.path.join(os.path.join('data', 'question')), 'rb'))\n",
    "    answer = pickle.load(open(os.path.join(os.path.join('data', 'answer')), 'rb'))\n",
    "\n",
    "print(question.shape)\n",
    "print(answer.shape)\n"
   ]
  },
  {
   "cell_type": "markdown",
   "metadata": {},
   "source": [
    "### Preparing Embedding Matrix"
   ]
  },
  {
   "cell_type": "code",
   "execution_count": null,
   "metadata": {},
   "outputs": [],
   "source": [
    "embedding_matrix = np.zeros((len(word_index) + 1, 100))\n",
    "for word, i in word_index.items():\n",
    "    if word in vocab:\n",
    "        embedding_vector = embeddings_index.get(word)\n",
    "        if embedding_vector is not None:\n",
    "            # words not found in embedding index will be all-zeros.\n",
    "            embedding_matrix[i] = embedding_vector\n",
    "print(\"Embedding Matrix shape\",embedding_matrix.shape)"
   ]
  },
  {
   "cell_type": "code",
   "execution_count": null,
   "metadata": {},
   "outputs": [],
   "source": [
    "embedding_size=100\n",
    "encoder_inputs = Input(shape=(None,))\n",
    "#Embedding(Size_Of_Vocab, Size_Of_Embedding_Vector, weights=[embedding_matrix] Input_Length)\n",
    "#Vocab_Size(rows)* embedding_vector_size(columns) must be equal to the embedding_matrix size) \n",
    "#enc_embedding_layer = Embedding(num_words+4, embedding_size,input_length=max_length)(encoder_inputs)\n",
    "#uncomment this line to include the embedding matrix\n",
    "enc_embedding_layer=  Embedding(55843, embedding_size,weights=[embedding_matrix],input_length=max_length)(encoder_inputs)\n",
    "encoder = LSTM(100, return_state=True)\n",
    "encoder_outputs, state_h, state_c = encoder(enc_embedding_layer)\n",
    "# We discard `encoder_outputs` and only keep the states.\n",
    "encoder_states = [state_h, state_c]"
   ]
  },
  {
   "cell_type": "code",
   "execution_count": null,
   "metadata": {},
   "outputs": [],
   "source": [
    "# Set up the decoder, using `encoder_states` as initial state.\n",
    "decoder_inputs = Input(shape=(None,))\n",
    "dex=  Embedding(num_words,embedding_size,input_length=max_length)\n",
    "\n",
    "final_dex= dex(decoder_inputs)\n",
    "#uncomment this line to include the embedding_matrix\n",
    "#dec_embedding_layer = Embedding(55843, embedding_size,weights=[embedding_matrix],input_length=max_length)(decoder_inputs)\n",
    "decoder_lstm = LSTM(100, return_sequences=True, return_state=True)\n",
    "decoder_outputs, _, _ = decoder_lstm(final_dex,initial_state=encoder_states)\n",
    "\n",
    "decoder_dense = Dense(max_length, activation='softmax')\n",
    "decoder_outputs = (decoder_outputs)\n",
    "model = Model([encoder_inputs, decoder_inputs], decoder_outputs)\n",
    "model.compile(optimizer='rmsprop', loss='categorical_crossentropy', metrics=['acc'])\n",
    "model.summary()"
   ]
  },
  {
   "cell_type": "code",
   "execution_count": null,
   "metadata": {
    "scrolled": true
   },
   "outputs": [],
   "source": [
    "encoder_input_data = np.zeros((6030, 7),dtype='float32')\n",
    "print(encoder_input_data.shape)\n",
    "decoder_target_data = np.zeros((50000, 16, 12763),dtype='float32')\n",
    "print(decoder_target_data.shape)"
   ]
  },
  {
   "cell_type": "markdown",
   "metadata": {},
   "source": [
    "'''Uncomment this if the training to the model is required\n",
    "encoder_input_data= conversation-dialogue 1 dataset\n",
    "decoder_input_data= conversation-dialogue 2 dataset\n",
    "decoder_target_data= conversation-dialogue 2 dataset\n",
    "\n",
    "Example: \n",
    "Creating the array of zeros with the required shape and populate these arrays with the data.\n",
    "encoder_input_data = np.zeros(\n",
    "    (len(lines.eng), 7),\n",
    "    dtype='float32')\n",
    "decoder_input_data = np.zeros(\n",
    "    (len(lines.fr), 16),\n",
    "    dtype='float32')\n",
    "decoder_target_data = np.zeros(\n",
    "    (len(lines.fr), 16, num_decoder_tokens),\n",
    "    dtype='float32')\n",
    "   \n",
    "decoder_target_data is a 3 dimensional array, we need to construct a 3-dimensional array for the dense(softmax layer)\n",
    "\n",
    "for i, (input_text, target_text) in enumerate(zip(lines.eng, lines.fr)):\n",
    "    for t, word in enumerate(input_text.split()):\n",
    "        encoder_input_data[i, t] = input_token_index[word]\n",
    "    for t, word in enumerate(target_text.split()):\n",
    "        #decoder_target_data is ahead of decoder_input_data by one timestep\n",
    "        if t != 16:\n",
    "            decoder_input_data[i, t] = target_token_index[word]\n",
    "        if t > 0:\n",
    "            #decoder_target_data will be ahead by one timestep\n",
    "            #and will not include the start character.\n",
    "            decoder_target_data[i, t - 1, target_token_index[word]] = 1.\n",
    "\n",
    "model.fit([question, answer], decoder_target_data,batch_size=256,epochs=10000,validation_split=0.05)\n",
    "'''"
   ]
  },
  {
   "cell_type": "markdown",
   "metadata": {},
   "source": [
    "### Inference\n",
    "#In order to test or infer the model, encoder and decoder models are required.\n",
    "#As the encoder model gives the #encoder_states for a particular input which acts as an input to the decoder model"
   ]
  },
  {
   "cell_type": "code",
   "execution_count": null,
   "metadata": {},
   "outputs": [],
   "source": [
    "encoder_model = Model(encoder_inputs, encoder_states)\n",
    "encoder_model.summary()"
   ]
  },
  {
   "cell_type": "code",
   "execution_count": null,
   "metadata": {},
   "outputs": [],
   "source": [
    "decoder_state_input_h = Input(shape=(50,))\n",
    "decoder_state_input_c = Input(shape=(50,))\n",
    "decoder_states_inputs = [decoder_state_input_h, decoder_state_input_c]\n",
    "\n",
    "final_dec_emb_layer= dex(decoder_inputs)\n",
    "\n",
    "decoder_outputs2, state_h2, state_c2 = decoder_lstm(final_dec_emb_layer, initial_state=decoder_states_inputs)\n",
    "decoder_states2 = [state_h2, state_c2]\n",
    "decoder_outputs2 = decoder_dense(decoder_outputs2)\n",
    "decoder_model = Model(\n",
    "    [decoder_inputs] + decoder_states_inputs,\n",
    "    [decoder_outputs2] + decoder_states2)\n",
    "\n",
    "# Reverse-lookup token index to decode sequences back to\n",
    "# something readable.\n",
    "reverse_input_char_index = dict(\n",
    "    (i, char) for char, i in input_token_index.items())\n",
    "reverse_target_char_index = dict(\n",
    "    (i, char) for char, i in target_token_index.items())"
   ]
  },
  {
   "cell_type": "code",
   "execution_count": null,
   "metadata": {},
   "outputs": [],
   "source": [
    "def decode_sequence(input_seq):\n",
    "    # Encode the input as state vectors.\n",
    "    states_value = encoder_model.predict(input_seq)\n",
    "    # Generate empty target sequence of length 1.\n",
    "    target_seq = np.zeros((1,1))\n",
    "    # Populate the first character of target sequence with the start character.\n",
    "    target_seq[0, 0] = target_token_index['START_']\n",
    "\n",
    "    # Sampling loop for a batch of sequences\n",
    "    # (to simplify, here we assume a batch of size 1).\n",
    "    stop_condition = False\n",
    "    decoded_sentence = ''\n",
    "    while not stop_condition:\n",
    "        output_tokens, h, c = decoder_model.predict(\n",
    "            [target_seq] + states_value)\n",
    "\n",
    "        # Sample a token\n",
    "        sampled_token_index = np.argmax(output_tokens[0, -1, :])\n",
    "        sampled_char = reverse_target_char_index[sampled_token_index]\n",
    "        decoded_sentence += ' '+sampled_char\n",
    "\n",
    "        # Exit condition: either hit max length\n",
    "        # or find stop character.\n",
    "        if (sampled_char == '_END' or\n",
    "           len(decoded_sentence) > 52):\n",
    "            stop_condition = True\n",
    "\n",
    "        # Update the target sequence (of length 1).\n",
    "        target_seq = np.zeros((1,1))\n",
    "        target_seq[0, 0] = sampled_token_index\n",
    "\n",
    "        # Update states\n",
    "        states_value = [h, c]\n",
    "\n",
    "    return decoded_sentence"
   ]
  },
  {
   "cell_type": "code",
   "execution_count": null,
   "metadata": {},
   "outputs": [],
   "source": [
    "for seq_index in [14077,20122,40035,40064, 40056, 40068, 40090, 40095, 40100, 40119, 40131, 40136, 40150, 40153]:\n",
    "    input_seq = question[seq_index: seq_index + 1]\n",
    "    decoded_sentence = decode_sequence(input_seq)\n",
    "    print('-')\n",
    "    print('Input sentence:', question[seq_index: seq_index + 1])\n",
    "    print('Decoded sentence:', decoded_sentence)"
   ]
  },
  {
   "cell_type": "code",
   "execution_count": null,
   "metadata": {},
   "outputs": [],
   "source": []
  }
 ],
 "metadata": {
  "kernelspec": {
   "display_name": "Python 2",
   "language": "python",
   "name": "python2"
  },
  "language_info": {
   "codemirror_mode": {
    "name": "ipython",
    "version": 2
   },
   "file_extension": ".py",
   "mimetype": "text/x-python",
   "name": "python",
   "nbconvert_exporter": "python",
   "pygments_lexer": "ipython2",
   "version": "2.7.14"
  }
 },
 "nbformat": 4,
 "nbformat_minor": 1
}
